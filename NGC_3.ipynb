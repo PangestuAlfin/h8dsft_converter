{
  "nbformat": 4,
  "nbformat_minor": 0,
  "metadata": {
    "colab": {
      "provenance": []
    },
    "kernelspec": {
      "name": "python3",
      "display_name": "Python 3"
    },
    "language_info": {
      "name": "python"
    }
  },
  "cells": [
    {
      "cell_type": "code",
      "source": [
        "#poin 1\n",
        "def Kelvin_ke_Celcius(kelvin):\n",
        "  #rumus dari kelvin ke celcius\n",
        "  celcius = kelvin - 273\n",
        "  #mencetak hasil\n",
        "  print('hasil dari kelvin ke celcius: ', celcius)\n",
        "\n",
        "#dipanggil dengan nilai \n",
        "Kelvin_ke_Celcius(300)\n",
        "  \n",
        "  \n"
      ],
      "metadata": {
        "colab": {
          "base_uri": "https://localhost:8080/"
        },
        "id": "NBRKrljtPIYr",
        "outputId": "4c09b3a4-7909-415f-a26f-67de748a5ccd"
      },
      "execution_count": null,
      "outputs": [
        {
          "output_type": "stream",
          "name": "stdout",
          "text": [
            "hasil dari kelvin ke celcius:  27\n"
          ]
        }
      ]
    },
    {
      "cell_type": "code",
      "source": [
        "#poin 1\n",
        "def Celcius_ke_Kelvin(celcius):\n",
        "  #rumus dari Celcius ke Kelvin \n",
        "  kelvin = celcius + 273\n",
        "   #mencetak hasil\n",
        "  print('hasil dari celcius ke kelvin : ', kelvin)\n",
        "  \n",
        "#dipanggil dengan nilai \n",
        "Celcius_ke_Kelvin(300)"
      ],
      "metadata": {
        "colab": {
          "base_uri": "https://localhost:8080/"
        },
        "id": "SMc-qY01S287",
        "outputId": "1312fdd5-0d4f-4801-c955-dc9a6ab76b8a"
      },
      "execution_count": null,
      "outputs": [
        {
          "output_type": "stream",
          "name": "stdout",
          "text": [
            "hasil dari celcius ke kelvin :  573\n"
          ]
        }
      ]
    },
    {
      "cell_type": "code",
      "source": [
        "#poin 2\n",
        "\n",
        "def keFarenhit(konversi, suhu):\n",
        "  #kondisi kelvin ke farenhit\n",
        "  if konversi == 'kelvin': \n",
        "    #rumus\n",
        "    celvin = (9/5 * suhu) + 32\n",
        "    #cetak\n",
        "    print('hasil dari farenhit ke kelvin: ', celvin)\n",
        "  #kondisi celcius ke farenhit\n",
        "  elif konversi == 'celcius':\n",
        "    #rumus\n",
        "    celcius = (9/5 * suhu) - 32\n",
        "    #cetak\n",
        "    print('hasil dari farenhit ke Celcius: ', celcius)\n",
        "  #kondisi apabila tidak terpenuhi\n",
        "  else:\n",
        "    print(\"anda kena covid\")\n",
        "    \n",
        "#dipanggil dengan nilai \n",
        "keFarenhit('kelvin', 200)\n",
        "keFarenhit('celcius', 200)"
      ],
      "metadata": {
        "colab": {
          "base_uri": "https://localhost:8080/"
        },
        "id": "qvXZkHfHUHxl",
        "outputId": "23ab18d7-189d-4d8d-d000-d4900f24576e"
      },
      "execution_count": null,
      "outputs": [
        {
          "output_type": "stream",
          "name": "stdout",
          "text": [
            "hasil dari farenhit ke kelvin:  392.0\n",
            "hasil dari farenhit ke Celcius:  328.0\n"
          ]
        }
      ]
    },
    {
      "cell_type": "code",
      "source": [
        "#point 3\n",
        "def dariFarenhit(convert, suhu):\n",
        "  #kondisi dari farenhit ke kelvin\n",
        "  if convert == 'kelvin': \n",
        "    #rumus\n",
        "    celvin = 5/9 *(suhu - 32) +273\n",
        "    #cetak\n",
        "    print('hasil dari farenhit ke kelvin: ', celvin)\n",
        "  #kondisi dari farenhit ke celcius\n",
        "  elif convert == 'celcius':\n",
        "    #rumus\n",
        "    celcius = 5/9 *(suhu - 32) \n",
        "    print('hasil dari farenhit ke Celcius: ', celcius)\n",
        "  #kondisi apabila tidak terpenuhi\n",
        "  else:\n",
        "    print(\"anda kena covid\")\n",
        "    \n",
        "#dipanggil dengan nilai \n",
        "dariFarenhit('kelvin', 200)\n",
        "dariFarenhit('celcius', 200)"
      ],
      "metadata": {
        "colab": {
          "base_uri": "https://localhost:8080/"
        },
        "id": "y5FdkEWaXEeB",
        "outputId": "b6d12910-d568-4ffe-cf00-564d17974b29"
      },
      "execution_count": null,
      "outputs": [
        {
          "output_type": "stream",
          "name": "stdout",
          "text": [
            "hasil dari farenhit ke kelvin:  366.33333333333337\n",
            "hasil dari farenhit ke Celcius:  93.33333333333334\n"
          ]
        }
      ]
    }
  ]
}